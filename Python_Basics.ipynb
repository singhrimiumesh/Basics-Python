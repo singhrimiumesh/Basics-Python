{
  "nbformat": 4,
  "nbformat_minor": 0,
  "metadata": {
    "colab": {
      "provenance": []
    },
    "kernelspec": {
      "name": "python3",
      "display_name": "Python 3"
    },
    "language_info": {
      "name": "python"
    }
  },
  "cells": [
    {
      "cell_type": "markdown",
      "source": [
        "We are using Google colab to  learn python intermediate level. Google colab uses free memory and processing upto certian level. This cloud based GUI has code and text option that can be iterated multiple times. Each cells can be run individually and output aren't washed away.\n",
        "\n",
        "The text cells need not be executed (Run), whereas code cells need to be executed using play icon.\n",
        "The note book can be downloaded in .ipynb format. Automatically gets saved in drive under colab notebooks."
      ],
      "metadata": {
        "id": "Z2UAHCWH5FX3"
      }
    },
    {
      "cell_type": "markdown",
      "source": [
        "**Python** is very popular general purpose, Interpreted, interactive, Object oriented, dynamically-typed and high level programming language.\n",
        "\n",
        "1. Popular - Easy, general purpose, english like\n",
        "2. General Purpose - Used AI, automation, web development etc\n",
        "3. High - level - english like\n",
        "4. Interpreted :\n",
        "Any code is always converted to machine understanding byte code(In earlier languages like C, compiler did that before running it)\n",
        "\n",
        "In python the source code is converted into byte code by interpreter that is executed by python virtual machine\n",
        "5. Modes:\n",
        "1) interactive mode:- Like windows prompt you can sit at python prompt to execute your code line by line by directly interacting with the interpreter.\n",
        "2) script mode:- Python is also scripting language because you can write multiple lines of code in a script file and save it as filename.py, then you can execute this script in python prompt using python filename.py\n",
        "3) what is IDLE (integrated development environment) / GUI based\n"
      ],
      "metadata": {
        "id": "TX07rRr66zIq"
      }
    },
    {
      "cell_type": "markdown",
      "source": [
        "Python is dynamically typed language, meaning unlike earlier programmmin languages where in variable data type was needed to be spcified before hand to allocate(reserve) memory to it. In python interpretor directly allocates memory at runtime reading the variable(eg: a = 1 will be allocated directly memory of integer at runtime)"
      ],
      "metadata": {
        "id": "d4QANrLOn4B8"
      }
    },
    {
      "cell_type": "markdown",
      "source": [
        "\n",
        "Object oriented programming means, like in real world everything is an object(Eg:-Table) which has attributes(Eg:-Colour) and functionalities(Eg:-Writing, Eating).\n",
        "Python is purely object oriented. It has 4 key concepts.\n",
        "\n",
        "1. Polymorphism\n",
        "2. Abstraction\n",
        "3. Inheritance\n",
        "4. Encapsulation\n",
        "\n",
        "Encapsulation:- Encapsulating characteristics and behaviors of the object using clases.\n",
        "Abstraction:-Hiding certain details.\n",
        "Polymorphism:-Multiple functionalities like addition and concatenation operation.\n",
        "Inheritance:-The attributes or funtionalities of a parent class by a child class is inheritance."
      ],
      "metadata": {
        "id": "Q7igch61uWvX"
      }
    },
    {
      "cell_type": "markdown",
      "source": [
        "Python comments starts with #. intrepreted ignores anything written after # at runtime. comments makes your program more readable and you can also write alternate lines of code\n",
        "\n",
        "Print is a built in function that is used to print message or variables on console"
      ],
      "metadata": {
        "id": "fyOCAakHjOFS"
      }
    },
    {
      "cell_type": "code",
      "execution_count": 1,
      "metadata": {
        "id": "0dX10vJdxV9D",
        "colab": {
          "base_uri": "https://localhost:8080/"
        },
        "outputId": "34127a5c-368c-45f3-f35d-b092cb1f8569"
      },
      "outputs": [
        {
          "output_type": "stream",
          "name": "stdout",
          "text": [
            "hello\n",
            "1\n"
          ]
        }
      ],
      "source": [
        "# This is my first Python program.\n",
        "# This will print 'Hello' as the output\n",
        "print('hello')\n",
        "a = 1\n",
        "print(a)"
      ]
    },
    {
      "cell_type": "code",
      "source": [
        "#polymorphism\n",
        "print(1+2)\n",
        "print(\"hello \"+ \"esha\") # string concatination"
      ],
      "metadata": {
        "colab": {
          "base_uri": "https://localhost:8080/"
        },
        "id": "iBY1DONmsy_-",
        "outputId": "9c6e1c2c-7917-4912-ff94-50c545099c3a"
      },
      "execution_count": 76,
      "outputs": [
        {
          "output_type": "stream",
          "name": "stdout",
          "text": [
            "3\n",
            "hello esha\n"
          ]
        }
      ]
    },
    {
      "cell_type": "markdown",
      "source": [
        "Python is scalable(broad set of libraries) and portable(linux/ mac / windows)."
      ],
      "metadata": {
        "id": "yUY_KUQc0xw7"
      }
    },
    {
      "cell_type": "code",
      "source": [
        "a = 1   # int\n",
        "b = \"esha\"  # string\n",
        "c = \"1\" # string2"
      ],
      "metadata": {
        "id": "Hppj0L3O0w2d"
      },
      "execution_count": 3,
      "outputs": []
    },
    {
      "cell_type": "markdown",
      "source": [
        "# python identifiers\n",
        "(A Python identifier is a name used to identify a variable, function, class, module or other object. Rules of Indentifiers are\n",
        "1.   Variable can start only with a alphabet or underscore(_)\n",
        "2.   Digits can be used in viable name, But varibale cannot start with digit\n",
        "3. Spaces are not allowed, You can used underscore instead(Snale case)\n",
        "4. Reserved keywords like if,print etc cannot be used as varibale name.\n",
        "5. Lastly python is case sensitive like small case and upper case are different.)\n"
      ],
      "metadata": {
        "id": "MTZVM-Rc3K7E"
      }
    },
    {
      "cell_type": "code",
      "source": [
        "# Creating variables of different data types\n",
        "counter = 1000  #integer\n",
        "miles = 10.1  #float\n",
        "name = \"Esha Prakash\"  # string\n",
        "flag = True  #bool\n",
        "\n",
        "print(counter)\n",
        "print(miles)\n",
        "print(name)\n",
        "print(flag)\n",
        "\n",
        "\n",
        "\n"
      ],
      "metadata": {
        "colab": {
          "base_uri": "https://localhost:8080/"
        },
        "id": "0xJT4UeD79jo",
        "outputId": "b48d9f4b-3f63-4299-f9eb-7039c3b9a626"
      },
      "execution_count": 4,
      "outputs": [
        {
          "output_type": "stream",
          "name": "stdout",
          "text": [
            "1000\n",
            "10.1\n",
            "Esha Prakash\n",
            "True\n"
          ]
        }
      ]
    },
    {
      "cell_type": "code",
      "source": [
        "price = 50\n",
        "quantity = 5\n",
        "total = price * quantity\n",
        "\n",
        "print(\"total\",total)\n",
        "total # print without using print"
      ],
      "metadata": {
        "colab": {
          "base_uri": "https://localhost:8080/"
        },
        "id": "XoR0Ci_Z9c1G",
        "outputId": "c20f2442-f63e-40e7-bc91-2f1c8c05b0c3"
      },
      "execution_count": 5,
      "outputs": [
        {
          "output_type": "stream",
          "name": "stdout",
          "text": [
            "total 250\n"
          ]
        },
        {
          "output_type": "execute_result",
          "data": {
            "text/plain": [
              "250"
            ]
          },
          "metadata": {},
          "execution_count": 5
        }
      ]
    },
    {
      "cell_type": "markdown",
      "source": [
        "Wrte code to swap two numbers\n",
        "a = 5 and b = 10\n",
        "b should become 5 and a should become 10"
      ],
      "metadata": {
        "id": "xfVGk7Ek_G8q"
      }
    },
    {
      "cell_type": "code",
      "source": [
        "a = 5\n",
        "b = 10\n",
        "\n",
        "\n",
        "# logic is using temp variable\n",
        "#temp = 0\n",
        "#print(temp)\n",
        "temp = a  # temp becomes 5\n",
        "a = b   # a becomes 10\n",
        "b = temp # b becomes temp which is 5\n",
        "\n",
        "\n",
        "print (a)  #value should become 10\n",
        "print (b)  # value should become 5"
      ],
      "metadata": {
        "colab": {
          "base_uri": "https://localhost:8080/"
        },
        "id": "vd5tSpZp_VTy",
        "outputId": "f6bda9f2-c7f4-4770-9b4a-93a425b19d17"
      },
      "execution_count": 6,
      "outputs": [
        {
          "output_type": "stream",
          "name": "stdout",
          "text": [
            "10\n",
            "5\n"
          ]
        }
      ]
    },
    {
      "cell_type": "code",
      "source": [
        "# code to swap without using third variable\n",
        "a = 10\n",
        "b = 5\n",
        "a = a + b  # 15    a has total\n",
        "b = a - b  # 10    b has original a (total - b)\n",
        "a = a - b  # 5     a has original b  (total - original a)\n",
        "print(\"a=\",a,\"b=\",b)"
      ],
      "metadata": {
        "id": "Nmq3Pjh9n4-a",
        "colab": {
          "base_uri": "https://localhost:8080/"
        },
        "outputId": "eb963117-1cd7-4e8d-8d7d-6be7d3de09c0"
      },
      "execution_count": 7,
      "outputs": [
        {
          "output_type": "stream",
          "name": "stdout",
          "text": [
            "a= 5 b= 10\n"
          ]
        }
      ]
    },
    {
      "cell_type": "markdown",
      "source": [
        "Decision making using if and else. Also, learning concept of indent(suite or block)"
      ],
      "metadata": {
        "id": "hp_JT5lVqVux"
      }
    },
    {
      "cell_type": "code",
      "source": [
        "# code to print max of two numbers\n",
        "a = 4\n",
        "b = 4\n",
        "if (a>b):\n",
        " print(\"a is bigger\")\n",
        "elif(a==b):\n",
        " print(\"both are equal\")\n",
        "else:\n",
        " print(\"b is bigger\")"
      ],
      "metadata": {
        "colab": {
          "base_uri": "https://localhost:8080/"
        },
        "id": "Fo7YdfWzpvT0",
        "outputId": "129185ea-434a-4fb3-b970-7907e04904ee"
      },
      "execution_count": 8,
      "outputs": [
        {
          "output_type": "stream",
          "name": "stdout",
          "text": [
            "both are equal\n"
          ]
        }
      ]
    },
    {
      "cell_type": "code",
      "source": [
        "num1 = int(input(\"Enter first number: \"))\n",
        "num2 = int(input(\"Enter second number: \"))\n",
        "num3 = int(input(\"Enter third number: \"))\n",
        "print(\"Largest number: \", max(num1,num2,num3))"
      ],
      "metadata": {
        "colab": {
          "base_uri": "https://localhost:8080/"
        },
        "id": "MrqHF72GsyCY",
        "outputId": "317eb233-4986-4859-c19a-85c8ada7cb61"
      },
      "execution_count": 31,
      "outputs": [
        {
          "output_type": "stream",
          "name": "stdout",
          "text": [
            "Enter first number: 56\n",
            "Enter second number: 89\n",
            "Enter third number: 66\n",
            "Largest number:  89\n"
          ]
        }
      ]
    },
    {
      "cell_type": "markdown",
      "source": [
        "Logical operator and. Also, using elif"
      ],
      "metadata": {
        "id": "glvuwklVxiyN"
      }
    },
    {
      "cell_type": "code",
      "source": [
        "# code to print max of three numbers\n",
        "a = 3\n",
        "b = 2\n",
        "c = 1\n",
        "if (a>b and a>c):\n",
        " print(a)\n",
        " print(\"hurray, i m greatest\")\n",
        "elif(b>c and b>a):\n",
        " print(b)\n",
        "else:\n",
        " print(c)"
      ],
      "metadata": {
        "id": "-A1Cp-5iv2iy",
        "colab": {
          "base_uri": "https://localhost:8080/"
        },
        "outputId": "4e2bf238-937b-4c15-def3-7cb93811ae48"
      },
      "execution_count": 32,
      "outputs": [
        {
          "output_type": "stream",
          "name": "stdout",
          "text": [
            "3\n",
            "hurray, i m greatest\n"
          ]
        }
      ]
    },
    {
      "cell_type": "code",
      "source": [
        "#Deletion\n",
        "i_d = 123\n",
        "print(i_d)\n",
        "name = \"esha\"\n",
        "del i_d\n",
        "#print(i_d)"
      ],
      "metadata": {
        "id": "K8wbKvDnyckJ",
        "colab": {
          "base_uri": "https://localhost:8080/"
        },
        "outputId": "43b978be-bcb1-4c29-a35c-be78f393141e"
      },
      "execution_count": 77,
      "outputs": [
        {
          "output_type": "stream",
          "name": "stdout",
          "text": [
            "123\n"
          ]
        }
      ]
    },
    {
      "cell_type": "markdown",
      "source": [
        "Most of the python functionality comes from function .\n",
        "A function is created using the “def” keyword function.\n",
        "A function has 4 parts :- function definitions ,\n",
        "argument/parameters, return statement and function calling\n",
        "Now flow of control goes from function calling to function\n",
        "definition to return statement to back to function calling."
      ],
      "metadata": {
        "id": "5ht1-rD07la0"
      }
    },
    {
      "cell_type": "code",
      "source": [
        "def sum(x,y): # function definition\n",
        "   sum1 = x + y\n",
        "   print(sum1)\n",
        "   return sum1\n",
        "# function calling\n",
        "total = sum(1,2)\n",
        "print(total)"
      ],
      "metadata": {
        "colab": {
          "base_uri": "https://localhost:8080/"
        },
        "id": "2dnfjD_Iy3Ia",
        "outputId": "6451eb58-732e-40f6-956b-01d7c80d1495"
      },
      "execution_count": 34,
      "outputs": [
        {
          "output_type": "stream",
          "name": "stdout",
          "text": [
            "3\n",
            "3\n"
          ]
        }
      ]
    },
    {
      "cell_type": "markdown",
      "source": [
        "LOCAL AND GLOBAL SCOPE\n",
        "\n",
        "If variable are defined outside the function they can be used\n",
        "anywhere and they have global scope.\n",
        "If a variable is defined inside a function it can be only used\n",
        "within the function."
      ],
      "metadata": {
        "id": "oNIHaYwE8ijo"
      }
    },
    {
      "cell_type": "code",
      "source": [
        "defg = 2 # global variable with global scope\n",
        "def demo():\n",
        "   abc = 1  #local variable local scope\n",
        "   print(defg)\n",
        "   print(abc)\n",
        "#print(abc)  # not allowed\n",
        "demo()\n",
        "print(defg)"
      ],
      "metadata": {
        "colab": {
          "base_uri": "https://localhost:8080/"
        },
        "id": "bPH5vEq88jkf",
        "outputId": "1f3c19fe-4cab-4710-acd7-6f6f1a69f396"
      },
      "execution_count": 35,
      "outputs": [
        {
          "output_type": "stream",
          "name": "stdout",
          "text": [
            "2\n",
            "1\n",
            "2\n"
          ]
        }
      ]
    },
    {
      "cell_type": "code",
      "source": [
        "#function\n",
        "\n",
        "def sum(x,y):  # fn definition with parameters\n",
        "  z = x+y\n",
        "  #print(z)\n",
        "  if(z>10):\n",
        "   return z\n",
        "  else:\n",
        "   return 0\n",
        "\n",
        "a = 5\n",
        "b = 10\n",
        "total = sum(a,b) #print(sum(a,b))   # fn calling\n",
        "print(total)"
      ],
      "metadata": {
        "id": "K5S6qMch988o",
        "colab": {
          "base_uri": "https://localhost:8080/"
        },
        "outputId": "44932ea7-367b-4a89-9189-0f5ac47368ce"
      },
      "execution_count": 36,
      "outputs": [
        {
          "output_type": "stream",
          "name": "stdout",
          "text": [
            "15\n"
          ]
        }
      ]
    },
    {
      "cell_type": "markdown",
      "source": [
        "PYTHON OPERATORS\n",
        "\n",
        "Python Arithmetic Operators\n",
        "Python Comparison Operators\n",
        "Python Logical Operator\n",
        "Python Membership Operators\n",
        "Python identity Operator"
      ],
      "metadata": {
        "id": "bu4Grusi_DHw"
      }
    },
    {
      "cell_type": "code",
      "source": [
        "#arithmetic\n",
        "a = 3\n",
        "b = 2\n",
        "print(\"remainder\",b%a) #modulus\n",
        "print(\"exponent\",a**b) #power\n",
        "print(\"quotient\",a//b) #floor division\n"
      ],
      "metadata": {
        "colab": {
          "base_uri": "https://localhost:8080/"
        },
        "id": "a5kUWcBz_D_n",
        "outputId": "576b97de-fb44-48da-edc5-423bef564712"
      },
      "execution_count": 37,
      "outputs": [
        {
          "output_type": "stream",
          "name": "stdout",
          "text": [
            "remainder 2\n",
            "exponent 9\n",
            "quotient 1\n"
          ]
        }
      ]
    },
    {
      "cell_type": "markdown",
      "source": [
        "comparison operators: >, <,>=,<=,==,!="
      ],
      "metadata": {
        "id": "SpxNu9gI5R2X"
      }
    },
    {
      "cell_type": "code",
      "source": [
        "# decision making -if /else\n",
        "# find whether a number is even or not\n",
        "a = int(input(\"enter a number: \"))\n",
        "if(a%2==0):\n",
        "#check whether a boolean expression which is (a%2==0) is true or not\n",
        "  print(\"even\")\n",
        "else:\n",
        "  print(\"odd\")"
      ],
      "metadata": {
        "id": "tKKAjUb-COqR",
        "colab": {
          "base_uri": "https://localhost:8080/"
        },
        "outputId": "3ef56716-e793-410c-c996-1f40ae174dd5"
      },
      "execution_count": 78,
      "outputs": [
        {
          "output_type": "stream",
          "name": "stdout",
          "text": [
            "enter a number: 98\n",
            "even\n"
          ]
        }
      ]
    },
    {
      "cell_type": "code",
      "source": [
        "#assignment\n",
        "a = 2\n",
        "c = 4 # assignment\n",
        "a = a + 1 #meaning for next line\n",
        "a += 1 # assignment/ increment"
      ],
      "metadata": {
        "id": "d-SJmnF7BwD8"
      },
      "execution_count": 79,
      "outputs": []
    },
    {
      "cell_type": "code",
      "source": [
        "#check divisibilty by 2 or 5 or both or none using nested if\n",
        "\n",
        "# decision making - nested if\n",
        "# find whether a number is divisible by two and five\n",
        "a = int(input(\"enter a number: \"))\n",
        "if(a%2==0):\n",
        " if(a%5==0):\n",
        "  print(\"divible by 2 & 5\")\n",
        " else:\n",
        "  print(\"divible by 2\")\n",
        "else:\n",
        "  if(a%5==0):\n",
        "    print(\"divisible by 5\")\n",
        "  else:\n",
        "    print(\"not divisible by 2&5\")"
      ],
      "metadata": {
        "colab": {
          "base_uri": "https://localhost:8080/"
        },
        "id": "QJI-kRNEFRu7",
        "outputId": "90563dba-fe51-4d97-ac65-c3a9bdcc3c25"
      },
      "execution_count": 81,
      "outputs": [
        {
          "output_type": "stream",
          "name": "stdout",
          "text": [
            "enter a number: 10\n",
            "divible by 2 & 5\n"
          ]
        }
      ]
    },
    {
      "cell_type": "code",
      "source": [
        "# to find out whether number is a prime number or not\n",
        "num = int(input(\"enter a number: \"))\n",
        "flag_prime = True\n",
        "if num > 2:\n",
        "  #logic\n",
        "  for i in range(2,num):\n",
        "    if (num%i)==0:\n",
        "       flag_prime = False\n",
        "       break\n",
        "    else:\n",
        "       flag_prime = True\n",
        "elif num == 2:\n",
        "  flag_prime = True\n",
        "else:\n",
        "  flag_prime = False\n",
        "\n",
        "if(flag_prime == True):\n",
        "      print(\"prime number\")\n",
        "elif(flag_prime == False):\n",
        "      print(\"not a prime number\")"
      ],
      "metadata": {
        "id": "LBc3ZEFlhu_Z",
        "colab": {
          "base_uri": "https://localhost:8080/"
        },
        "outputId": "52e496fb-7dde-49e2-a5ef-8830db088cd7"
      },
      "execution_count": 83,
      "outputs": [
        {
          "output_type": "stream",
          "name": "stdout",
          "text": [
            "enter a number: 7\n",
            "prime number\n"
          ]
        }
      ]
    },
    {
      "cell_type": "markdown",
      "source": [
        "PYTHON MEMBERSHIP OPERATORS : In and Not In, Are used with strings or list\n",
        "Note: needed for \"for loop\""
      ],
      "metadata": {
        "id": "FniE4YvlmoW4"
      }
    },
    {
      "cell_type": "code",
      "source": [
        "# memership operator in\n",
        "# example 1 : list\n",
        "list1 = [1,2,3] # comma seperated items which can be of different\n",
        "# data type enclosed withon square bracket is list\n",
        "i = int(input(\"enter number you want check in list \"))\n",
        "#i = 4\n",
        "\n",
        "if(i in list1):\n",
        "  print(\"yes\")\n",
        "else:\n",
        "  print(\"no\")\n"
      ],
      "metadata": {
        "colab": {
          "base_uri": "https://localhost:8080/"
        },
        "id": "YOvhwb3rncFX",
        "outputId": "3aa36b36-1704-46cf-91a3-d1af8915a6a2"
      },
      "execution_count": 2,
      "outputs": [
        {
          "output_type": "stream",
          "name": "stdout",
          "text": [
            "enter number you want check in list 2\n",
            "yes\n"
          ]
        }
      ]
    },
    {
      "cell_type": "code",
      "source": [
        "#membership operator not in\n",
        "# example two - string\n",
        "string1 = \"HelloWorld\"\n",
        "if (\"Hello\" not in string1):\n",
        "  print(\"Not Present\")\n",
        "else:\n",
        "  print(\"present\")"
      ],
      "metadata": {
        "colab": {
          "base_uri": "https://localhost:8080/"
        },
        "id": "JQhGA-wHpLuP",
        "outputId": "ff736a3d-1388-462c-f843-a3f4d2a1e6d3"
      },
      "execution_count": 3,
      "outputs": [
        {
          "output_type": "stream",
          "name": "stdout",
          "text": [
            "present\n"
          ]
        }
      ]
    },
    {
      "cell_type": "code",
      "source": [
        "#substring in string\n",
        "\n",
        "string1 =input(\"enter a string \")\n",
        "a = input(\"enter a character \")\n",
        "if (a not in string1):\n",
        "  print(\"true\")\n",
        "else:\n",
        "  print(\"false\")"
      ],
      "metadata": {
        "id": "dh53qy_JuyNJ",
        "colab": {
          "base_uri": "https://localhost:8080/"
        },
        "outputId": "935465f1-0e7d-41bc-a301-8c65c67758c4"
      },
      "execution_count": 7,
      "outputs": [
        {
          "output_type": "stream",
          "name": "stdout",
          "text": [
            "enter a string rimi\n",
            "enter a character mi\n",
            "false\n"
          ]
        }
      ]
    },
    {
      "cell_type": "code",
      "source": [
        "#indian phone no\n",
        "\n",
        "number = input(\"Enter a number along with country code \")\n",
        "if (\"+91\" in number):\n",
        "  print(\"The phone number is Indian\")\n",
        "else:\n",
        "  print(\"The phone number is not Indian\")"
      ],
      "metadata": {
        "colab": {
          "base_uri": "https://localhost:8080/"
        },
        "id": "Qo0EARnAvqKc",
        "outputId": "bdae4977-eee0-4452-925d-873fa9aa7dc4"
      },
      "execution_count": 8,
      "outputs": [
        {
          "output_type": "stream",
          "name": "stdout",
          "text": [
            "Enter a number along with country code +91\n",
            "The phone number is Indian\n"
          ]
        }
      ]
    },
    {
      "cell_type": "code",
      "source": [
        "a = 1\n",
        "b = a\n",
        "#location at which a is getting stored can be found using id function\n",
        "print(id(a))\n",
        "print(id(b))\n"
      ],
      "metadata": {
        "colab": {
          "base_uri": "https://localhost:8080/"
        },
        "id": "nGxAe_eKwdef",
        "outputId": "3f2b4f0a-3869-41a1-aba7-54205b9f6263"
      },
      "execution_count": 9,
      "outputs": [
        {
          "output_type": "stream",
          "name": "stdout",
          "text": [
            "132606959698160\n",
            "132606959698160\n"
          ]
        }
      ]
    },
    {
      "cell_type": "code",
      "source": [
        "#identity operators\n",
        "a = 1\n",
        "b = a\n",
        "if (b is a):\n",
        "  print(\"same\")\n",
        "else:\n",
        "  print(\"different\")"
      ],
      "metadata": {
        "colab": {
          "base_uri": "https://localhost:8080/"
        },
        "id": "WaXJPn7xxDhd",
        "outputId": "6d2c7c5f-2ae2-48b8-8593-426b956ee73e"
      },
      "execution_count": 10,
      "outputs": [
        {
          "output_type": "stream",
          "name": "stdout",
          "text": [
            "same\n"
          ]
        }
      ]
    },
    {
      "cell_type": "markdown",
      "source": [
        "In python, statements are executed sequentially. But control statements like if- else(skips certain statements) and loops (exceutes set of statements multiple times) changes the flow of python program.\n",
        "# Loops - For while"
      ],
      "metadata": {
        "id": "aPr_9RJr4jW6"
      }
    },
    {
      "cell_type": "code",
      "source": [
        "#looping: while loop\n",
        "count = 0  #initialization\n",
        "while (count < 9):#condition check\n",
        "   print ('The count is:', count)\n",
        "   count = count + 1 #increment\n",
        "\n",
        "print( \"Out of while loop\")"
      ],
      "metadata": {
        "colab": {
          "base_uri": "https://localhost:8080/"
        },
        "id": "BD-cgeZp5NRY",
        "outputId": "8565422b-2f51-4746-e6a6-6e45e4beb961"
      },
      "execution_count": 11,
      "outputs": [
        {
          "output_type": "stream",
          "name": "stdout",
          "text": [
            "The count is: 0\n",
            "The count is: 1\n",
            "The count is: 2\n",
            "The count is: 3\n",
            "The count is: 4\n",
            "The count is: 5\n",
            "The count is: 6\n",
            "The count is: 7\n",
            "The count is: 8\n",
            "Out of while loop\n"
          ]
        }
      ]
    },
    {
      "cell_type": "code",
      "source": [
        "#loop - for loop\n",
        "#example 1\n",
        "# variable iterates for a sequence - string\n",
        "str1 = 'hello world'\n",
        "for i in str1:\n",
        "  print(i)"
      ],
      "metadata": {
        "id": "sBiPiTJx9B0m",
        "colab": {
          "base_uri": "https://localhost:8080/"
        },
        "outputId": "82a8a38e-0b70-4206-ee25-0ea0e4fc98f1"
      },
      "execution_count": 12,
      "outputs": [
        {
          "output_type": "stream",
          "name": "stdout",
          "text": [
            "h\n",
            "e\n",
            "l\n",
            "l\n",
            "o\n",
            " \n",
            "w\n",
            "o\n",
            "r\n",
            "l\n",
            "d\n"
          ]
        }
      ]
    },
    {
      "cell_type": "code",
      "source": [
        "#loop - for loop\n",
        "#example 2 -list\n",
        "# variable iterates for a sequence - list\n",
        "list1 = [1,'esha',28]\n",
        "for i in list1:\n",
        "  print(i)"
      ],
      "metadata": {
        "id": "Guw2vbZ39s0f",
        "colab": {
          "base_uri": "https://localhost:8080/"
        },
        "outputId": "ce3eb8a7-b521-4b11-93a2-de9b785cfa77"
      },
      "execution_count": 13,
      "outputs": [
        {
          "output_type": "stream",
          "name": "stdout",
          "text": [
            "1\n",
            "esha\n",
            "28\n"
          ]
        }
      ]
    },
    {
      "cell_type": "code",
      "source": [
        "#loop - for loop\n",
        "#example 3 -range\n",
        "# variable iterates for a sequence - range\n",
        "for i in range(1,10):\n",
        "  print(i)"
      ],
      "metadata": {
        "colab": {
          "base_uri": "https://localhost:8080/"
        },
        "id": "RoBqX-N49v23",
        "outputId": "ed23a037-c8b9-4a89-e3c4-99111b098c0c"
      },
      "execution_count": 14,
      "outputs": [
        {
          "output_type": "stream",
          "name": "stdout",
          "text": [
            "1\n",
            "2\n",
            "3\n",
            "4\n",
            "5\n",
            "6\n",
            "7\n",
            "8\n",
            "9\n"
          ]
        }
      ]
    },
    {
      "cell_type": "markdown",
      "source": [
        "Control statements within loops are break, continue and pass"
      ],
      "metadata": {
        "id": "jJ31LKXoAOmp"
      }
    },
    {
      "cell_type": "code",
      "source": [
        "i = 1\n",
        "while(i<11):\n",
        "  a = i*11\n",
        "  if(a>80):\n",
        "    break\n",
        "  print(a)\n",
        "  i+=1\n",
        "print(\"out of loop statement because break\")"
      ],
      "metadata": {
        "colab": {
          "base_uri": "https://localhost:8080/"
        },
        "id": "R_ZSS1HIAN3k",
        "outputId": "95bc4f45-6bb2-43dc-d23a-e9855ce59bd7"
      },
      "execution_count": 15,
      "outputs": [
        {
          "output_type": "stream",
          "name": "stdout",
          "text": [
            "11\n",
            "22\n",
            "33\n",
            "44\n",
            "55\n",
            "66\n",
            "77\n",
            "out of loop statement because break\n"
          ]
        }
      ]
    },
    {
      "cell_type": "code",
      "source": [
        "# game of chocolate where u cant say multiple of 10 while stating multiple of 2\n",
        "\n",
        "i = 0\n",
        "while(i < 21):\n",
        "  if(((i*2) % 10) ==0):\n",
        "      pass\n",
        "  else:\n",
        "      print (i *2)\n",
        "  i = i+1\n"
      ],
      "metadata": {
        "colab": {
          "base_uri": "https://localhost:8080/"
        },
        "id": "ZgZ5FWj7Bexj",
        "outputId": "9a02ce20-e9c0-4f88-b289-c997c6f50b2c"
      },
      "execution_count": 16,
      "outputs": [
        {
          "output_type": "stream",
          "name": "stdout",
          "text": [
            "2\n",
            "4\n",
            "6\n",
            "8\n",
            "12\n",
            "14\n",
            "16\n",
            "18\n",
            "22\n",
            "24\n",
            "26\n",
            "28\n",
            "32\n",
            "34\n",
            "36\n",
            "38\n"
          ]
        }
      ]
    },
    {
      "cell_type": "code",
      "source": [
        "#not a nested loop\n",
        "i = 0\n",
        "j = 1\n",
        "while ((i < 3 )and (j <4)):\n",
        "\n",
        "  print(i*j)\n",
        "  j = j+ 1\n",
        "  i = i + 1"
      ],
      "metadata": {
        "colab": {
          "base_uri": "https://localhost:8080/"
        },
        "id": "PfmYJEX1ENT5",
        "outputId": "e3da2e1f-d3b1-4f76-d9d9-c6f28af49f97"
      },
      "execution_count": 17,
      "outputs": [
        {
          "output_type": "stream",
          "name": "stdout",
          "text": [
            "0\n",
            "2\n",
            "6\n"
          ]
        }
      ]
    },
    {
      "cell_type": "code",
      "source": [
        "i = 0\n",
        "while i < 3:\n",
        "    j = 1  # Reset j to 1 at the beginning of each iteration of the outer loop\n",
        "    while j < 4:\n",
        "        print(i * j)\n",
        "        j = j + 1\n",
        "    i = i + 1"
      ],
      "metadata": {
        "colab": {
          "base_uri": "https://localhost:8080/"
        },
        "id": "Hx3lt2RaFlQf",
        "outputId": "aec73a9c-3650-4f8f-9c27-5d8a8f1d25bd"
      },
      "execution_count": 18,
      "outputs": [
        {
          "output_type": "stream",
          "name": "stdout",
          "text": [
            "0\n",
            "0\n",
            "0\n",
            "1\n",
            "2\n",
            "3\n",
            "2\n",
            "4\n",
            "6\n"
          ]
        }
      ]
    },
    {
      "cell_type": "code",
      "source": [
        "i = 0\n",
        "while(i<10):\n",
        "  if(i==7):\n",
        "    pass\n",
        "  else:\n",
        "    print(i)\n",
        "  i= i+1"
      ],
      "metadata": {
        "colab": {
          "base_uri": "https://localhost:8080/"
        },
        "id": "gslGiZOBCuK1",
        "outputId": "34f2732d-0f0c-4709-af57-82a273db067a"
      },
      "execution_count": 19,
      "outputs": [
        {
          "output_type": "stream",
          "name": "stdout",
          "text": [
            "0\n",
            "1\n",
            "2\n",
            "3\n",
            "4\n",
            "5\n",
            "6\n",
            "8\n",
            "9\n"
          ]
        }
      ]
    },
    {
      "cell_type": "markdown",
      "source": [
        "the fundamental data type in python are\n",
        "Number ( sometimes boolean subset of number)\n",
        "string\n",
        "list\n",
        "tuple\n",
        "dictionary (mapping)\n",
        "set(Hw- optional)"
      ],
      "metadata": {
        "id": "Hmk1ML-aqQKV"
      }
    },
    {
      "cell_type": "markdown",
      "source": [
        "#python number type are\n",
        "1)integer (int)\n",
        "2)flating point number(float)\n",
        "3)complex number (j)"
      ],
      "metadata": {
        "id": "8P4-6X--qQ9q"
      }
    },
    {
      "cell_type": "code",
      "source": [
        "#number\n",
        "var1 = 1       # int data type\n",
        "var2 = 10.023  # float data type\n",
        "var3 = 10+3j   # complex data type\n",
        "\n",
        "#boolean\n",
        "var4 = True    # bool data type\n",
        "\n",
        "#to check data type\n",
        "type(var2)\n",
        "#type(True)"
      ],
      "metadata": {
        "colab": {
          "base_uri": "https://localhost:8080/"
        },
        "id": "ho-DDrHNqRcT",
        "outputId": "dcc08ea5-9075-494f-a6cf-44097c718da2"
      },
      "execution_count": 20,
      "outputs": [
        {
          "output_type": "execute_result",
          "data": {
            "text/plain": [
              "float"
            ]
          },
          "metadata": {},
          "execution_count": 20
        }
      ]
    },
    {
      "cell_type": "code",
      "source": [
        "#maths functions\n",
        "import math\n",
        "a = -1\n",
        "print(abs(a)) # removes negative effect\n",
        "b = 22.7\n",
        "print(math.ceil(22.7)) # gives upper integer\n",
        "print(math.floor(22.7)) # gives lower int\n",
        "c = 22.2222222\n",
        "print(round(c,2)) #rounds till (n)2 digit\n",
        "print(pow(3,4)) # prints exponential value\n",
        "print(math.sqrt(64))"
      ],
      "metadata": {
        "colab": {
          "base_uri": "https://localhost:8080/"
        },
        "id": "OD8giB8zrv5V",
        "outputId": "715eb855-d8ce-43fa-f2d8-c5cb34575131"
      },
      "execution_count": 21,
      "outputs": [
        {
          "output_type": "stream",
          "name": "stdout",
          "text": [
            "1\n",
            "23\n",
            "22\n",
            "22.22\n",
            "81\n",
            "8.0\n"
          ]
        }
      ]
    },
    {
      "cell_type": "code",
      "source": [
        "#typecasting\n",
        "#implicit\n",
        "a = 10 # converted to 10.0 automatically\n",
        "b = 10.5\n",
        "c = a + b\n",
        "print(c)\n",
        "\n",
        "#explicit\n",
        "d = 10\n",
        "print(float(d))\n",
        "e = 10.4\n",
        "print(int(e))"
      ],
      "metadata": {
        "colab": {
          "base_uri": "https://localhost:8080/"
        },
        "id": "sIYakpHLvtP3",
        "outputId": "f6da0eef-0c39-45c3-804d-e1f18553b572"
      },
      "execution_count": 22,
      "outputs": [
        {
          "output_type": "stream",
          "name": "stdout",
          "text": [
            "20.5\n",
            "10.0\n",
            "10\n"
          ]
        }
      ]
    },
    {
      "cell_type": "markdown",
      "source": [
        "# Strings\n",
        "# strings\n",
        "sring- any alphanumeric or special characters enclosed with single, double or triple quotes\n",
        "\n",
        ". eg: \"hello\"\n",
        "      'hello'"
      ],
      "metadata": {
        "id": "w5VLLWMgxrKf"
      }
    },
    {
      "cell_type": "code",
      "source": [
        "#Anything within double single or tripple quote is string\n",
        "str1 = \"Hello World!\"\n",
        "\n",
        "\n",
        "\n",
        "#indexing,slicing and concatination\n",
        "#indexing\n",
        "print (str1)          # Prints complete string\n",
        "print (str1[0])\n",
        "print(str1[-1])\n",
        "\n",
        "# Prints first character of the string\n",
        "#slicing\n",
        "print (str1[2:5])     # Prints characters starting from 3rd to 5th (2 to 4)\n",
        "print (str1[2:])      # Prints string starting from 3rd character\n",
        "print (str1[:2])\n",
        "#repetition\n",
        "print (str1 * 2)      # Prints string two times\n",
        "#concatination\n",
        "print (str1 + \"TEST\") # Prints concatenated string\n"
      ],
      "metadata": {
        "colab": {
          "base_uri": "https://localhost:8080/"
        },
        "id": "EmEPvnMpywHW",
        "outputId": "6d312746-79be-4791-db53-9ed1a6ffad2e"
      },
      "execution_count": 23,
      "outputs": [
        {
          "output_type": "stream",
          "name": "stdout",
          "text": [
            "Hello World!\n",
            "H\n",
            "!\n",
            "llo\n",
            "llo World!\n",
            "He\n",
            "Hello World!Hello World!\n",
            "Hello World!TEST\n"
          ]
        }
      ]
    },
    {
      "cell_type": "markdown",
      "source": [
        "string methods are nothing but built in string functions used to manipulate string"
      ],
      "metadata": {
        "id": "892kzoa49gga"
      }
    },
    {
      "cell_type": "code",
      "source": [
        "# titlecase means capitilizaling 1 letter of each word\n",
        "string1 = \"harsh ankit khushi anya\"\n",
        "print(string1.title())"
      ],
      "metadata": {
        "id": "7Kd-jr6b9o23",
        "colab": {
          "base_uri": "https://localhost:8080/"
        },
        "outputId": "28afd933-0974-4752-b2b9-47a559d3c83a"
      },
      "execution_count": 24,
      "outputs": [
        {
          "output_type": "stream",
          "name": "stdout",
          "text": [
            "Harsh Ankit Khushi Anya\n"
          ]
        }
      ]
    },
    {
      "cell_type": "code",
      "source": [
        "str1 = \"esha\"\n",
        "str2 = \"rehmat\"\n",
        "print(str1.upper())\n",
        "print(str2.lower())"
      ],
      "metadata": {
        "colab": {
          "base_uri": "https://localhost:8080/"
        },
        "id": "x0AVmoHi-R_8",
        "outputId": "821db0ca-eb60-4676-809c-13d23097e70d"
      },
      "execution_count": 25,
      "outputs": [
        {
          "output_type": "stream",
          "name": "stdout",
          "text": [
            "ESHA\n",
            "rehmat\n"
          ]
        }
      ]
    },
    {
      "cell_type": "code",
      "source": [
        "str1 = \"dhwani is working hard. dhwani loves coding\"\n",
        "str2 = str1.replace(\"dhwani\",\"pulkit\")\n",
        "print(str2)"
      ],
      "metadata": {
        "id": "ZyK7YZ6w-g7D",
        "colab": {
          "base_uri": "https://localhost:8080/"
        },
        "outputId": "0bf06016-1f65-44f7-dfc4-a4eb76ffc60d"
      },
      "execution_count": 26,
      "outputs": [
        {
          "output_type": "stream",
          "name": "stdout",
          "text": [
            "pulkit is working hard. pulkit loves coding\n"
          ]
        }
      ]
    },
    {
      "cell_type": "code",
      "source": [
        "#substring in string count\n",
        "str1 = \"team india worked hard. they did great. Team india deserved win\"\n",
        "count = str1.count(\"india\")\n",
        "print(count)"
      ],
      "metadata": {
        "colab": {
          "base_uri": "https://localhost:8080/"
        },
        "id": "MKz0AAOq_aae",
        "outputId": "7aa95475-d826-4d68-f887-afef7b8e1d06"
      },
      "execution_count": 27,
      "outputs": [
        {
          "output_type": "stream",
          "name": "stdout",
          "text": [
            "2\n"
          ]
        }
      ]
    },
    {
      "cell_type": "code",
      "source": [
        "str1 = \"Hello123\"\n",
        "count_digit = 0\n",
        "len(str1)\n",
        "for i in str1:\n",
        "  if(i.isdigit()):\n",
        "    count_digit +=1\n",
        "print(count_digit)\n"
      ],
      "metadata": {
        "colab": {
          "base_uri": "https://localhost:8080/"
        },
        "id": "5gL5YZ5OANvY",
        "outputId": "f7922a71-4115-4ab2-d497-9f97bd691a20"
      },
      "execution_count": 28,
      "outputs": [
        {
          "output_type": "stream",
          "name": "stdout",
          "text": [
            "3\n"
          ]
        }
      ]
    },
    {
      "cell_type": "code",
      "source": [
        "#palindrome\n",
        "\n",
        "originalstring = \"madam\"\n",
        "reversedstring = originalstring [::-1]\n",
        "if reversedstring == originalstring:\n",
        "  print(\"Palindrome\")\n",
        "else:\n",
        "  print(\"Not a Palindrome\")"
      ],
      "metadata": {
        "id": "lpuRrrLmDFzk",
        "colab": {
          "base_uri": "https://localhost:8080/"
        },
        "outputId": "cab9decb-56d6-4952-cba4-2dd785e8fdb8"
      },
      "execution_count": 29,
      "outputs": [
        {
          "output_type": "stream",
          "name": "stdout",
          "text": [
            "Palindrome\n"
          ]
        }
      ]
    },
    {
      "cell_type": "code",
      "source": [
        "#palindrome #string\n",
        "\n",
        "originalstring = \"Madam\"\n",
        "reversedstring = originalstring [::-1]\n",
        "if reversedstring.lower() == originalstring.lower():\n",
        "  print(\"Palindrome\")\n",
        "else:\n",
        "  print(\"Not a Palindrome\")\n"
      ],
      "metadata": {
        "colab": {
          "base_uri": "https://localhost:8080/"
        },
        "id": "MaNdBNoRDucE",
        "outputId": "3359ee8d-1ab8-4e73-8379-cd85d36f9c17"
      },
      "execution_count": 30,
      "outputs": [
        {
          "output_type": "stream",
          "name": "stdout",
          "text": [
            "Palindrome\n"
          ]
        }
      ]
    },
    {
      "cell_type": "code",
      "source": [
        "pwd = input(\"enter a password\")\n",
        "#pwd = \"Abcd@123\"\n",
        "flag_len = False\n",
        "counter_upper = 0\n",
        "counter_digit = 0\n",
        "counter_space = 0\n",
        "counter_special = 0\n",
        "if((len(pwd)==8)):\n",
        "   flag_len = True\n",
        "for i in pwd:\n",
        "  if(i.isupper()):\n",
        "    counter_upper += 1\n",
        "  if(i.isdigit()):\n",
        "    counter_digit += 1\n",
        "  if(i.isspace()):\n",
        "    counter_space += 1\n",
        "  if((i.isalnum()== False) and (i.isspace() == False)):\n",
        "    counter_special+=1\n",
        "if((flag_len == True) and (counter_upper>0) and (counter_digit>0) and (counter_space ==0) and (counter_special>0)):\n",
        "  print(\"password is valid\")\n",
        "else:\n",
        "  print(\"password invalid\")"
      ],
      "metadata": {
        "colab": {
          "base_uri": "https://localhost:8080/"
        },
        "id": "unr3bTf3vubL",
        "outputId": "4cd2be33-896a-482b-f646-ed9a49f0ac2a"
      },
      "execution_count": 31,
      "outputs": [
        {
          "output_type": "stream",
          "name": "stdout",
          "text": [
            "enter a passwordAbcd@123\n",
            "password is valid\n"
          ]
        }
      ]
    },
    {
      "cell_type": "code",
      "source": [
        "# to find out whether number is a prime number or not\n",
        "num = int(input(\"enter a number: \"))   #6\n",
        "flag_prime = True\n",
        "if num > 2:\n",
        "  for i in range(2,num):   # 2,3,4,5(i)\n",
        "    if (num%i)==0:\n",
        "       flag_prime = False\n",
        "       break\n",
        "    else:\n",
        "       flag_prime = True\n",
        "elif num == 2:\n",
        "  flag_prime = True\n",
        "else:\n",
        "  flag_prime = False\n",
        "\n",
        "if(flag_prime == True):\n",
        "      print(\"prime number\")\n",
        "elif(flag_prime == False):\n",
        "      print(\"not a prime number\")"
      ],
      "metadata": {
        "colab": {
          "base_uri": "https://localhost:8080/"
        },
        "id": "PHg-m7080w2M",
        "outputId": "57ece3fe-387b-437f-fb17-bf302a37eb30"
      },
      "execution_count": 32,
      "outputs": [
        {
          "output_type": "stream",
          "name": "stdout",
          "text": [
            "enter a number: 7\n",
            "prime number\n"
          ]
        }
      ]
    },
    {
      "cell_type": "code",
      "source": [
        "def greet(name):\n",
        "  #this functions greet the person passed in as parameter\n",
        "  print(\"Hope you're having a great day \"+name)\n",
        "\n",
        "greet(\"Ankit\")\n",
        "greet(\"John\")"
      ],
      "metadata": {
        "colab": {
          "base_uri": "https://localhost:8080/"
        },
        "id": "O0hB9SXl7GsR",
        "outputId": "fa051d50-0128-4821-98e1-b80f418a7b8c"
      },
      "execution_count": 33,
      "outputs": [
        {
          "output_type": "stream",
          "name": "stdout",
          "text": [
            "Hope you're having a great day Ankit\n",
            "Hope you're having a great day John\n"
          ]
        }
      ]
    },
    {
      "cell_type": "code",
      "source": [
        "#Factorial\n",
        "num = int (input(\"enter a number \"))\n",
        "fact = 1\n",
        "for i in range(1,num+1):\n",
        "  fact = i * fact\n",
        "print(fact)"
      ],
      "metadata": {
        "id": "yrl1a7nI9kzO",
        "colab": {
          "base_uri": "https://localhost:8080/"
        },
        "outputId": "4c9cb847-0352-4d75-bd87-37008281e5b1"
      },
      "execution_count": 34,
      "outputs": [
        {
          "output_type": "stream",
          "name": "stdout",
          "text": [
            "enter a number 5\n",
            "120\n"
          ]
        }
      ]
    },
    {
      "cell_type": "code",
      "source": [
        "num=int (input(\"Enter a number:\"))\n",
        "n1=0\n",
        "n2=1\n",
        "print(\"fibo series\")\n",
        "print(n1,end=\" \")\n",
        "print(n2,end=\" \")\n",
        "for i in range(2,num):\n",
        "  n3=n1+n2\n",
        "  n1=n2\n",
        "  n2=n3\n",
        "  print(n3,end=\" \")"
      ],
      "metadata": {
        "colab": {
          "base_uri": "https://localhost:8080/"
        },
        "id": "iBUidI9pFyA2",
        "outputId": "920b8279-277b-4489-8052-fab95ec1bbc9"
      },
      "execution_count": 35,
      "outputs": [
        {
          "output_type": "stream",
          "name": "stdout",
          "text": [
            "Enter a number:9\n",
            "fibo series\n",
            "0 1 1 2 3 5 8 13 21 "
          ]
        }
      ]
    },
    {
      "cell_type": "code",
      "source": [
        "#check if an integer is a palindrome\n",
        "def is_palindrome(number):\n",
        "  if number<0:\n",
        "    return False\n",
        "\n",
        "  original_number=number\n",
        "  reversed_number=0\n",
        "\n",
        "  while number > 0:\n",
        "    digit= number % 10\n",
        "    reversed_number=reversed_number * 10 + digit\n",
        "    number=number//10\n",
        "\n",
        "  return original_number==reversed_number\n",
        "\n",
        "num=int(input(\"enter a number:\"))\n",
        "if is_palindrome(num):\n",
        "  print(\"the number is a palindrome\")\n",
        "else:\n",
        "  print(\"the number is not a palindrome\")\n"
      ],
      "metadata": {
        "id": "nxQ7N1JZHCff",
        "colab": {
          "base_uri": "https://localhost:8080/"
        },
        "outputId": "bed5854f-e565-4c1c-9694-061c6333f144"
      },
      "execution_count": 37,
      "outputs": [
        {
          "output_type": "stream",
          "name": "stdout",
          "text": [
            "enter a number:121\n",
            "the number is a palindrome\n"
          ]
        }
      ]
    },
    {
      "cell_type": "markdown",
      "source": [
        "# Sequence (built-in data type) - list, tuple and dictionary\n",
        "Sequences have index staring from from 0 and from right side staring from -1.\n",
        "There are 6 build in sequences like list, tuple,dictionary etc"
      ],
      "metadata": {
        "id": "4Bu0jfmZuBS9"
      }
    },
    {
      "cell_type": "markdown",
      "source": [
        "# List\n",
        "A Python list is a sequence of comma separated items,\n",
        "enclosed in square brackets [ ].\n",
        "The items in a Python list need not be of the same data\n",
        "type.\n",
        "List are mutable, meaning they can be updated"
      ],
      "metadata": {
        "id": "XMHRsD4HuTTw"
      }
    },
    {
      "cell_type": "code",
      "source": [
        "list1 = [\"Rohan\",\"Physics\", 21, 69.75] #heterogenous\n",
        "list2 = [1, 2, 3, 4, 5] #homogenous\n",
        "list3 = [\"a\",\"b\",\"c\",\"d\"]\n",
        "list4 = [25.50, True, -55, 1+2j]"
      ],
      "metadata": {
        "id": "Bvv_NzJhvCMB"
      },
      "execution_count": 38,
      "outputs": []
    },
    {
      "cell_type": "code",
      "source": [
        "#list are mutable\n",
        "list1 =[1,21,'esha','trainer']\n",
        "#indexing\n",
        "print(list1[2])\n",
        "print(list1[-1])\n",
        "#slicing\n",
        "print(list1[0:3])\n",
        "\n",
        "print (list1[1])\n",
        "#lists are mutable: we can update,delete or append it\n",
        "print(\"update\")\n",
        "list1[1] = 23\n",
        "print(list1)\n",
        "#delete\n",
        "del list1[3]\n",
        "print(list1)\n",
        "#concatination\n",
        "print([1, 2, 3] + [4, 5, 6])\n",
        "#repeatition\n",
        "print([1,2,3]*2)\n",
        "print(len(list1))\n"
      ],
      "metadata": {
        "colab": {
          "base_uri": "https://localhost:8080/"
        },
        "id": "txtMJ6TNvBMg",
        "outputId": "a12a3668-e354-4720-8d84-19ca8f77c242"
      },
      "execution_count": 39,
      "outputs": [
        {
          "output_type": "stream",
          "name": "stdout",
          "text": [
            "esha\n",
            "trainer\n",
            "[1, 21, 'esha']\n",
            "21\n",
            "update\n",
            "[1, 23, 'esha', 'trainer']\n",
            "[1, 23, 'esha']\n",
            "[1, 2, 3, 4, 5, 6]\n",
            "[1, 2, 3, 1, 2, 3]\n",
            "3\n"
          ]
        }
      ]
    },
    {
      "cell_type": "code",
      "source": [
        "# append sort and reverse\n",
        "list2 = [2,1,5,3,7] # homogenous number list\n",
        "list2.append(6)\n",
        "list2.sort()  # it should be homogenous list\n",
        "print(list2)\n",
        "list2.reverse()\n",
        "print(list2)\n",
        "\n",
        "list3 = ['esha','roshni','rehmat']\n",
        "list3.sort()\n",
        "print(list3)"
      ],
      "metadata": {
        "colab": {
          "base_uri": "https://localhost:8080/"
        },
        "id": "iFtyhRzkzzCR",
        "outputId": "a47b04f6-b3e4-4d01-ffe1-11eb0de1ecdb"
      },
      "execution_count": 40,
      "outputs": [
        {
          "output_type": "stream",
          "name": "stdout",
          "text": [
            "[1, 2, 3, 5, 6, 7]\n",
            "[7, 6, 5, 3, 2, 1]\n",
            "['esha', 'rehmat', 'roshni']\n"
          ]
        }
      ]
    },
    {
      "cell_type": "code",
      "source": [
        "list3 = ['esha','roshni',1234]\n",
        "list3.clear()\n",
        "print(list3)"
      ],
      "metadata": {
        "id": "nIjKuRJr4_80",
        "colab": {
          "base_uri": "https://localhost:8080/"
        },
        "outputId": "252e2ec5-1fca-4268-9044-cb8a3d3eb425"
      },
      "execution_count": 41,
      "outputs": [
        {
          "output_type": "stream",
          "name": "stdout",
          "text": [
            "[]\n"
          ]
        }
      ]
    },
    {
      "cell_type": "code",
      "source": [
        "# project hint\n",
        "import random\n",
        "L1 = []\n",
        "for i in range(5):\n",
        "   x = random.randint(0, 100)\n",
        "   L1.append(x)\n",
        "print (L1)"
      ],
      "metadata": {
        "colab": {
          "base_uri": "https://localhost:8080/"
        },
        "id": "jtChWCC064ZU",
        "outputId": "47cafdfe-df9d-4f15-c10a-7827d49af0c2"
      },
      "execution_count": 42,
      "outputs": [
        {
          "output_type": "stream",
          "name": "stdout",
          "text": [
            "[24, 90, 99, 93, 18]\n"
          ]
        }
      ]
    },
    {
      "cell_type": "markdown",
      "source": [
        "#Tuple\n",
        "Tuples are just like list only difference being used with paranthesis () and they are immutable. They are also the default data type for comma seperated items."
      ],
      "metadata": {
        "id": "qzu4zT-H8nkq"
      }
    },
    {
      "cell_type": "code",
      "source": [
        "#tuple\n",
        "\n",
        "tup1 = (1,2,'esha')\n",
        "# no update or append possible\n",
        "# we can't delete one element but we can delete entire tuple\n",
        "del tup1\n",
        "tup2 = (3,4,'khushi')\n",
        "#slicing\n",
        "tup2[0:2]\n",
        "\n",
        "print((1, 2, 3) + (4, 5, 6)) #Concatenation\n",
        "print(('Hi!',) * 4) #Repetition\n",
        "print(3 in (1, 2, 3)) #Membership\n",
        "\n",
        "\n",
        "\n"
      ],
      "metadata": {
        "colab": {
          "base_uri": "https://localhost:8080/"
        },
        "id": "YH_YmhqI8o7o",
        "outputId": "8387f850-037d-4564-9066-b1e83cd0ddd6"
      },
      "execution_count": 43,
      "outputs": [
        {
          "output_type": "stream",
          "name": "stdout",
          "text": [
            "(1, 2, 3, 4, 5, 6)\n",
            "('Hi!', 'Hi!', 'Hi!', 'Hi!')\n",
            "True\n"
          ]
        }
      ]
    },
    {
      "cell_type": "markdown",
      "source": [
        "Python dictionary(mapping) is also a collection of key:value pairs.\n",
        "The pairs are separated by comma and put inside curly brackets {}."
      ],
      "metadata": {
        "id": "tiTYVDjABEI9"
      }
    },
    {
      "cell_type": "code",
      "source": [
        "#dictionary : sequence( mapping)\n",
        "dict1 = {1:'esha',2:'rehmat',3:'esha'} # key should be unique\n",
        "print(dict1[1])  # key inside square bracket and not index"
      ],
      "metadata": {
        "colab": {
          "base_uri": "https://localhost:8080/"
        },
        "id": "KO8V1_20B4JL",
        "outputId": "9125480a-5d52-46d8-d6af-25b2eb4f55b2"
      },
      "execution_count": 44,
      "outputs": [
        {
          "output_type": "stream",
          "name": "stdout",
          "text": [
            "esha\n"
          ]
        }
      ]
    },
    {
      "cell_type": "code",
      "source": [
        "#only immutable items like string,numbers and tupple can be used as keys\n",
        "# anything: immutable or mutable can be used as values\n",
        "d1 = {\"Fruit\":[\"Mango\",\"Banana\"], \"Flower\":[\"Rose\", \"Lotus\"]}\n",
        "d2 = {('India, USA'):'Countries', ('New Delhi', 'New York'):'Capitals'}\n",
        "print (d1)\n",
        "print (d2)"
      ],
      "metadata": {
        "id": "ugI2ErSwCyAF",
        "colab": {
          "base_uri": "https://localhost:8080/"
        },
        "outputId": "c2fafc65-2197-45c8-d56a-56b6ca5944cc"
      },
      "execution_count": 45,
      "outputs": [
        {
          "output_type": "stream",
          "name": "stdout",
          "text": [
            "{'Fruit': ['Mango', 'Banana'], 'Flower': ['Rose', 'Lotus']}\n",
            "{'India, USA': 'Countries', ('New Delhi', 'New York'): 'Capitals'}\n"
          ]
        }
      ]
    },
    {
      "cell_type": "code",
      "source": [
        "dict1 = {1:'esha',2:'rehmat',3:'esha'}\n",
        "print(dict1[1])\n",
        "dict1[3]='darsh' #update\n",
        "dict1[5]='kunal' #add\n",
        "print(dict1)\n",
        "del dict1[3]\n",
        "print(dict1)\n",
        "#dict1.clear()\n",
        "print(dict1.items())\n",
        "print(dict1.keys())\n",
        "print(dict1.values())\n",
        "#loop\n",
        "for i in dict1:\n",
        "  print(i) #keys\n",
        "  print (dict1[i]) # values\n"
      ],
      "metadata": {
        "colab": {
          "base_uri": "https://localhost:8080/"
        },
        "id": "5gmqSuueEp4P",
        "outputId": "ee762669-40fc-42cb-8dca-3fb0ae529c07"
      },
      "execution_count": 46,
      "outputs": [
        {
          "output_type": "stream",
          "name": "stdout",
          "text": [
            "esha\n",
            "{1: 'esha', 2: 'rehmat', 3: 'darsh', 5: 'kunal'}\n",
            "{1: 'esha', 2: 'rehmat', 5: 'kunal'}\n",
            "dict_items([(1, 'esha'), (2, 'rehmat'), (5, 'kunal')])\n",
            "dict_keys([1, 2, 5])\n",
            "dict_values(['esha', 'rehmat', 'kunal'])\n",
            "1\n",
            "esha\n",
            "2\n",
            "rehmat\n",
            "5\n",
            "kunal\n"
          ]
        }
      ]
    },
    {
      "cell_type": "code",
      "source": [],
      "metadata": {
        "id": "5tyBwwIQGT3I"
      },
      "execution_count": 30,
      "outputs": []
    }
  ]
}